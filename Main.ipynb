{
 "cells": [
  {
   "cell_type": "code",
   "execution_count": null,
   "metadata": {},
   "outputs": [],
   "source": [
    "from __future__ import print_function, division\n",
    "import os\n",
    "import copy\n",
    "import torch\n",
    "import torch.nn as nn\n",
    "import torch.optim as optim\n",
    "import pandas as pd\n",
    "from skimage import io, transform\n",
    "import numpy as np\n",
    "import matplotlib.pyplot as plt\n",
    "from torch.utils.data import Dataset, DataLoader, random_split\n",
    "from torchvision import transforms, utils"
   ]
  },
  {
   "cell_type": "markdown",
   "metadata": {},
   "source": [
    "### Seting up the dataloader"
   ]
  },
  {
   "cell_type": "markdown",
   "metadata": {},
   "source": [
    "Implementing (Inheriting) the dataset class"
   ]
  },
  {
   "cell_type": "code",
   "execution_count": null,
   "metadata": {},
   "outputs": [],
   "source": [
    "class CactusImageDataset(Dataset):\n",
    "    \"Aerial Cactus Classification Dataset\"\n",
    "    \n",
    "    def __init__(self, csv_file, root_dir, transform = None):\n",
    "        \"\"\"\n",
    "        Args:\n",
    "            csv_file (string): Path to csv file with annotations\n",
    "            root_dir (string): Directory with all the images.\n",
    "            transform (callable, optional): Optional transform to be applied on a sample.\n",
    "        \"\"\"\n",
    "        self.cactus_annotations = pd.read_csv(csv_file)\n",
    "        self.root_dir = root_dir\n",
    "        self.transform = transform\n",
    "    \n",
    "    def __len__(self):\n",
    "        return self.cactus_annotations.shape[0]\n",
    "    \n",
    "    def __getitem__(self, idx):\n",
    "        if torch.is_tensor(idx):\n",
    "            idx = idx.tolist()\n",
    "        \n",
    "        img_name = os.path.join(self.root_dir,\n",
    "                                self.cactus_annotations.iloc[idx, 0])\n",
    "        image = io.imread(img_name)\n",
    "        has_cactus = self.cactus_annotations.iloc[idx, 1]\n",
    "        \n",
    "        if self.transform:\n",
    "            image = self.transform(image)\n",
    "            \n",
    "        sample = {\"image\":image, 'label':has_cactus}\n",
    "        return sample\n",
    "    \n",
    "        "
   ]
  },
  {
   "cell_type": "code",
   "execution_count": null,
   "metadata": {},
   "outputs": [],
   "source": [
    "image_transforms = {\n",
    "    'train': transforms.Compose([\n",
    "        transforms.ToPILImage(),\n",
    "        transforms.RandomHorizontalFlip(),\n",
    "        transforms.RandomVerticalFlip(),\n",
    "        transforms.RandomRotation(10),\n",
    "        transforms.ToTensor(),\n",
    "        transforms.Normalize(mean=[0.485, 0.456, 0.406],\n",
    "                                 std=[0.229, 0.224, 0.225])\n",
    "    ]),\n",
    "    'test':transforms.Compose([\n",
    "        transforms.ToPILImage(),\n",
    "        transforms.ToTensor(),\n",
    "        transforms.Normalize(mean=[0.485, 0.456, 0.406],\n",
    "                                 std=[0.229, 0.224, 0.225])\n",
    "    ])\n",
    "}"
   ]
  },
  {
   "cell_type": "code",
   "execution_count": null,
   "metadata": {},
   "outputs": [],
   "source": [
    "dataset = CactusImageDataset('data/train.csv','data/train/', image_transforms['train'])"
   ]
  },
  {
   "cell_type": "code",
   "execution_count": null,
   "metadata": {},
   "outputs": [],
   "source": [
    "train_size = int((0.80 * dataset.__len__()))\n",
    "dev_size = dataset.__len__() - train_size\n",
    "train_set, dev_set = random_split(dataset, [train_size, dev_size])"
   ]
  },
  {
   "cell_type": "code",
   "execution_count": null,
   "metadata": {},
   "outputs": [],
   "source": [
    "BATCH_SIZE = 32\n",
    "train_loader = DataLoader(train_set, batch_size=BATCH_SIZE, shuffle=True)\n",
    "dev_loader = DataLoader(dev_set, batch_size=BATCH_SIZE, shuffle=True)"
   ]
  },
  {
   "cell_type": "markdown",
   "metadata": {},
   "source": [
    "### Defining the Model"
   ]
  },
  {
   "cell_type": "code",
   "execution_count": null,
   "metadata": {},
   "outputs": [],
   "source": [
    "class CactusIdentifierBase(nn.Module):\n",
    "    \"\"\"\n",
    "        Aerial Cactus Identifier Model\n",
    "    \"\"\"\n",
    "    def __init__(self):\n",
    "        super(CactusIdentifier, self).__init__()\n",
    "        self.conv1 = nn.Conv2d(3,8,3,1,1)\n",
    "        self.pool = nn.MaxPool2d(2,2)\n",
    "        self.conv2 = nn.Conv2d(8,32,3,1,1)\n",
    "        self.fc1 = nn.Linear(8*8*32, 128)\n",
    "        self.fc2 = nn.Linear(128, 64)\n",
    "        self.fc3 = nn.Linear(64,1)\n",
    "        self.act = nn.ReLU()\n",
    "    \n",
    "    def forward(self, inp_image):\n",
    "        out = self.pool(self.act(self.conv1(inp_image)))\n",
    "#         print(out.shape)\n",
    "        out = self.pool(self.act(self.conv2(out)))\n",
    "#         print(out.shape)\n",
    "        out = out.view(-1, 8*8*32)\n",
    "        out = self.act(self.fc1(out))\n",
    "        out = self.act(self.fc2(out))\n",
    "        \n",
    "        return self.fc3(out)\n"
   ]
  },
  {
   "cell_type": "code",
   "execution_count": null,
   "metadata": {},
   "outputs": [],
   "source": [
    "class TrainingModuleBase():\n",
    "    \"\"\"\n",
    "    Training Module to train the model\n",
    "    \"\"\"\n",
    "    \n",
    "    def __init__(self, model):\n",
    "        self.model = model\n",
    "        self.loss_fn = nn.BCEWithLogitsLoss()\n",
    "        self.optimizer = optim.Adam(self.model.parameters())\n",
    "        self.cuda = False\n",
    "        if torch.cuda.is_available():\n",
    "            self.cuda = True\n",
    "            self.model = model.cuda()\n",
    "    \n",
    "    def train_epoch(self, epoch, train_iterator):\n",
    "        total_loss = 0\n",
    "        stats_string = \"Epoch : {:3d} | Iteration : {:4d} | Loss : {:4.4f}\"\n",
    "        for i, data in enumerate(train_iterator):\n",
    "            inputs = data['image']\n",
    "            labels = data['label'].float()\n",
    "            \n",
    "            if self.cuda:\n",
    "                inputs = inputs.cuda()\n",
    "                labels = labels.cuda()\n",
    "            \n",
    "            \n",
    "            self.optimizer.zero_grad()\n",
    "            \n",
    "            outputs = self.model(inputs).squeeze(1)\n",
    "            loss = self.loss_fn(outputs, labels)\n",
    "            loss.backward()\n",
    "            self.optimizer.step()\n",
    "            \n",
    "            total_loss += loss.item()\n",
    "            \n",
    "            if i % 50 == 0:\n",
    "                print(stats_string.format(epoch+1, i+1, total_loss/50))\n",
    "                total_loss = 0\n",
    "    \n",
    "    def train_model(self, train_iterator, dev_iterator, num_epocs = 3):\n",
    "        self.model.train()\n",
    "        max_accuracy = float('-inf')\n",
    "        stats_string = \"Epoch : {:2d} | Train Accuracy : {:4.4f} | Dev Accuracy : {:4.4f}\"\n",
    "        for i in range(num_epocs):\n",
    "            self.train_epoch(i, train_iterator)\n",
    "            dev_acc = self.evaluate(dev_iterator)\n",
    "            train_acc = self.evaluate(train_iterator)\n",
    "            print(stats_string.format(i, train_acc, dev_acc))\n",
    "            if dev_acc > max_accuracy:\n",
    "                best_model = copy.deepcopy(self.model)\n",
    "                max_accuracy = dev_acc\n",
    "        \n",
    "        print(\"Finished Training\")\n",
    "        \n",
    "        return best_model\n",
    "    \n",
    "    def evaluate(self, iterator):\n",
    "        self.model.eval()\n",
    "        \n",
    "        correct = 0\n",
    "        total = 0\n",
    "        \n",
    "        for i, data in enumerate(iterator):\n",
    "            inputs = data['image']\n",
    "            labels = data['label'].float()\n",
    "            \n",
    "            if self.cuda:\n",
    "                inputs = inputs.cuda()\n",
    "                labels = labels.cuda()\n",
    "            \n",
    "            preds = self.model(inputs).squeeze(1)\n",
    "            \n",
    "            correct = (torch.round(torch.sigmoid(preds)) == labels).sum()\n",
    "            total = inputs.shape[0]\n",
    "        \n",
    "        return correct.item()/total\n",
    "            "
   ]
  },
  {
   "cell_type": "code",
   "execution_count": null,
   "metadata": {},
   "outputs": [],
   "source": [
    "base_model = CactusIdentifierBase()\n",
    "print(base_model)"
   ]
  },
  {
   "cell_type": "code",
   "execution_count": null,
   "metadata": {},
   "outputs": [],
   "source": [
    "trainer = TrainingModuleBase(base_model)"
   ]
  },
  {
   "cell_type": "code",
   "execution_count": null,
   "metadata": {},
   "outputs": [],
   "source": [
    "trainer.evaluate(dev_loader)"
   ]
  },
  {
   "cell_type": "code",
   "execution_count": null,
   "metadata": {},
   "outputs": [],
   "source": [
    "best_model_base = trainer.train_model(train_loader, dev_loader)"
   ]
  },
  {
   "cell_type": "code",
   "execution_count": null,
   "metadata": {},
   "outputs": [],
   "source": [
    "test_set = CactusImageDataset(\"data/sample_submission.csv\", \"data/test/\", image_transforms['test'])\n",
    "test_loader = DataLoader(test_set, batch_size=BATCH_SIZE, shuffle=True)"
   ]
  },
  {
   "cell_type": "code",
   "execution_count": null,
   "metadata": {},
   "outputs": [],
   "source": [
    "final_preds = []\n",
    "for i, data in enumerate(test_loader):\n",
    "    inputs = data['image']\n",
    "    labels = data['label'].float()\n",
    "\n",
    "    if torch.cuda.is_available():\n",
    "        inputs = inputs.cuda()\n",
    "        labels = labels.cuda()\n",
    "\n",
    "    preds = self.model(inputs).squeeze(1)\n",
    "    pred = torch.sigmoid(preds)\n",
    "    final_preds += pred.tolist()\n",
    "\n",
    "test_dataset.cactus_annotations['has_cactus'] = final_preds\n",
    "# test_dataset.cactus_annotations.to_csv('samle_submission.csv', index=False)\n"
   ]
  },
  {
   "cell_type": "code",
   "execution_count": null,
   "metadata": {},
   "outputs": [],
   "source": []
  },
  {
   "cell_type": "markdown",
   "metadata": {},
   "source": [
    "## New Model and Training Module"
   ]
  },
  {
   "cell_type": "code",
   "execution_count": null,
   "metadata": {},
   "outputs": [],
   "source": [
    "class CactusIdentifier(nn.Module):\n",
    "    \"\"\"\n",
    "        Aerial Cactus Identifier Model\n",
    "    \"\"\"\n",
    "    def __init__(self):\n",
    "        super(CactusIdentifier, self).__init__()\n",
    "        self.conv1 = nn.Conv2d(3,16,3, padding = 1)\n",
    "        self.conv2 = nn.Conv2d(16,32,3, padding = 1)\n",
    "        self.conv3 = nn.Conv2d(32,64,3, padding = 1)\n",
    "        self.conv4 = nn.Conv2d(64,128,3, padding = 1)\n",
    "        self.pool = nn.MaxPool2d(2,2)\n",
    "        \n",
    "        self.fc1 = nn.Linear(128*2*2, 512)\n",
    "        self.fc2 = nn.Linear(512, 2)\n",
    "        self.act = nn.ReLU()\n",
    "        self.drop = nn.Dropout(0.25)\n",
    "    \n",
    "    def forward(self, inp_image):\n",
    "        out = self.pool(self.act(self.conv1(inp_image)))\n",
    "        out = self.pool(self.act(self.conv2(out)))\n",
    "        out = self.pool(self.act(self.conv3(out)))\n",
    "        out = self.pool(self.act(self.conv4(out)))\n",
    "        \n",
    "        out = out.view(-1, 128*2*2)\n",
    "        out = self.drop(out)\n",
    "        out = self.act(self.fc1(out))\n",
    "        out = self.drop(out)\n",
    "        out = self.fc2(out)\n",
    "        \n",
    "        return out\n"
   ]
  },
  {
   "cell_type": "code",
   "execution_count": null,
   "metadata": {},
   "outputs": [],
   "source": [
    "class TrainingModule():\n",
    "    \"\"\"\n",
    "    Training Module to train the model\n",
    "    \"\"\"\n",
    "    \n",
    "    def __init__(self, model):\n",
    "        self.model = model\n",
    "        self.loss_fn = nn.CrossEntropyLoss()\n",
    "        self.optimizer = optim.Adam(self.model.parameters())\n",
    "        self.is_cuda = False\n",
    "        if torch.cuda.is_available():\n",
    "            self.is_cuda = True\n",
    "            self.model = model.cuda()\n",
    "    \n",
    "    def train_epoch(self, epoch, train_iterator):\n",
    "        total_loss = 0\n",
    "        stats_string = \"Epoch : {:3d} | Iteration : {:4d} | Loss : {:4.4f}\"\n",
    "        for i, data in enumerate(train_iterator):\n",
    "            inputs = data['image']\n",
    "            labels = data['label'].long()\n",
    "            \n",
    "            if self.is_cuda:\n",
    "                inputs = inputs.cuda()\n",
    "                labels = labels.cuda()\n",
    "                    \n",
    "            self.optimizer.zero_grad()\n",
    "        \n",
    "            outputs = self.model(inputs)\n",
    "            loss = self.loss_fn(outputs, labels)\n",
    "            loss.backward()\n",
    "            self.optimizer.step()\n",
    "            \n",
    "            total_loss += loss.item()\n",
    "            \n",
    "            if i % 100 == 0:\n",
    "                print(stats_string.format(epoch+1, i, total_loss/50))\n",
    "                total_loss = 0\n",
    "    \n",
    "    def train_model(self, train_iterator, dev_iterator, num_epocs = 25):\n",
    "        self.model.train()\n",
    "        min_loss = 1000000\n",
    "        stats_string = \"Epoch : {:2d} | Train Loss : {:4.4f} | Dev Loss : {:4.4f}\"\n",
    "        for i in range(num_epocs):\n",
    "            self.train_epoch(i, train_iterator)\n",
    "            dev_loss = self.evaluate(dev_iterator)\n",
    "            train_loss = self.evaluate(train_iterator)\n",
    "            print(stats_string.format(i+1, train_loss, dev_loss))\n",
    "            if dev_loss <= min_loss:\n",
    "                best_model = copy.deepcopy(self.model)\n",
    "                min_loss = dev_loss\n",
    "    \n",
    "        print(\"Finished Training\")\n",
    "        \n",
    "        return best_model\n",
    "    \n",
    "    def evaluate(self, iterator):\n",
    "        self.model.eval()\n",
    "        \n",
    "        loss_total = 0\n",
    "        \n",
    "        for i, data in enumerate(iterator):\n",
    "            inputs = data['image']\n",
    "            labels = data['label'].long()\n",
    "            \n",
    "            if self.is_cuda:\n",
    "                inputs = inputs.cuda()\n",
    "                labels = labels.cuda()\n",
    "            \n",
    "            preds = self.model(inputs)\n",
    "            loss = self.loss_fn(preds, labels)\n",
    "            loss_total += loss.item()\n",
    "        \n",
    "        return loss_total/(i+1)\n",
    "            "
   ]
  },
  {
   "cell_type": "code",
   "execution_count": null,
   "metadata": {},
   "outputs": [],
   "source": [
    "base_model = CactusIdentifier()\n",
    "print(base_model)"
   ]
  },
  {
   "cell_type": "code",
   "execution_count": null,
   "metadata": {},
   "outputs": [],
   "source": [
    "trainer = TrainingModule(base_model)"
   ]
  },
  {
   "cell_type": "code",
   "execution_count": null,
   "metadata": {},
   "outputs": [],
   "source": [
    "best_model = trainer.train_model(train_loader, dev_loader)"
   ]
  },
  {
   "cell_type": "code",
   "execution_count": null,
   "metadata": {},
   "outputs": [],
   "source": []
  },
  {
   "cell_type": "code",
   "execution_count": null,
   "metadata": {},
   "outputs": [],
   "source": [
    "test_set = CactusImageDataset(\"data/sample_submission.csv\", \"data/test/\", image_transforms['test'])\n",
    "test_loader = DataLoader(test_set, batch_size=BATCH_SIZE, shuffle=True)"
   ]
  },
  {
   "cell_type": "code",
   "execution_count": null,
   "metadata": {},
   "outputs": [],
   "source": [
    "final_preds = []\n",
    "for i, data in enumerate(test_loader):\n",
    "    inputs = data['image']\n",
    "    labels = data['label'].long()\n",
    "\n",
    "    if torch.cuda.is_available():\n",
    "        inputs = inputs.cuda()\n",
    "        labels = labels.cuda()\n",
    "\n",
    "    preds = best_model(inputs)\n",
    "    pred = preds[:,1]\n",
    "    final_preds += pred.tolist()\n",
    "    break\n",
    "    \n",
    "test_set.cactus_annotations['has_cactus'] = final_preds\n",
    "test_set.cactus_annotations.head()"
   ]
  }
 ],
 "metadata": {
  "kernelspec": {
   "display_name": "Python 3",
   "language": "python",
   "name": "python3"
  },
  "language_info": {
   "codemirror_mode": {
    "name": "ipython",
    "version": 3
   },
   "file_extension": ".py",
   "mimetype": "text/x-python",
   "name": "python",
   "nbconvert_exporter": "python",
   "pygments_lexer": "ipython3",
   "version": "3.7.3"
  }
 },
 "nbformat": 4,
 "nbformat_minor": 4
}
